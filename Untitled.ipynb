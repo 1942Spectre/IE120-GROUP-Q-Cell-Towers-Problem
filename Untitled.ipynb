{
 "cells": [
  {
   "cell_type": "code",
   "execution_count": 33,
   "id": "26305fc4-ce78-4a28-abad-48bffa453a08",
   "metadata": {},
   "outputs": [],
   "source": [
    "def get_houses():\n",
    "\n",
    "    houses = np.zeros((10,10))\n",
    "    houses[0,2] = 1\n",
    "    houses[0,4] = 1\n",
    "    houses[0,5] = 1\n",
    "    houses[0,7] = 1\n",
    "\n",
    "    houses[1,0] = 1\n",
    "    houses[1,4] = 1\n",
    "\n",
    "    houses[2,3] = 1\n",
    "    houses[2,5] = 1\n",
    "    houses[2,6] = 1\n",
    "    houses[2,8] = 1\n",
    "    houses[2,9] = 1\n",
    "\n",
    "    houses[3,4] = 1\n",
    "    houses[3,6] = 1\n",
    "    houses[3,8] = 1\n",
    "\n",
    "    houses[4,2] = 1\n",
    "    houses[4,5] = 1\n",
    "    houses[4,6] = 1\n",
    "    houses[4,7] = 1\n",
    "    houses[4,8] = 1\n",
    "\n",
    "    houses[5,0] = 1\n",
    "    houses[5,3] = 1\n",
    "    houses[5,4] = 1\n",
    "    houses[5,6] = 1\n",
    "\n",
    "    houses[6,0] = 1\n",
    "    houses[6,1] = 1\n",
    "    houses[6,2] = 1\n",
    "    houses[6,3] = 1\n",
    "    houses[6,4] = 1\n",
    "    houses[6,9] = 1\n",
    "\n",
    "    houses[7,4] = 1\n",
    "    houses[7,6] = 1\n",
    "\n",
    "    houses[8,0] = 1\n",
    "    houses[8,2] = 1\n",
    "    houses[8,6] = 1\n",
    "    houses[8,7] = 1\n",
    "    houses[8,9] = 1\n",
    "\n",
    "    houses[9,0] = 1\n",
    "    houses[9,4] = 1\n",
    "    houses[9,5] = 1\n",
    "    houses[9,8] = 1\n",
    "    houses[9,9] = 1\n",
    "\n",
    "    return houses.astype(np.int8)"
   ]
  },
  {
   "cell_type": "code",
   "execution_count": 34,
   "id": "bbd1bf23-9ca8-436c-94be-e602d03b20e6",
   "metadata": {},
   "outputs": [],
   "source": [
    "import numpy as np\n",
    "\n",
    "## Minimize probability of Exceedance until its less than or equal to\n",
    "## Fraction of uncovered houses\n",
    "\n",
    "max_uncovered_rate = 0.3\n",
    "minimum_covering_to_be_served = 1 # A house has to have 100% service rate\n",
    "max_num_towers = 20\n",
    "\n",
    "houses = get_houses()\n",
    "cell_towers = np.zeros((10,10))\n",
    "\n"
   ]
  },
  {
   "cell_type": "code",
   "execution_count": 35,
   "id": "b42ef4d9-265e-41e5-ba6e-5163853a1e7b",
   "metadata": {},
   "outputs": [],
   "source": [
    "matrix = np.stack((houses,cell_towers))"
   ]
  },
  {
   "cell_type": "markdown",
   "id": "b8fa46cd-d661-49ee-9728-034f5c481721",
   "metadata": {},
   "source": [
    "matrix[0] = houses"
   ]
  },
  {
   "cell_type": "markdown",
   "id": "709f005d-eaa4-4e6d-b024-8d793856f021",
   "metadata": {},
   "source": [
    "matrix[1] = cell towers"
   ]
  },
  {
   "cell_type": "code",
   "execution_count": 36,
   "id": "ca9266d0-c2cb-4e7b-9e81-16cef4a519f4",
   "metadata": {},
   "outputs": [],
   "source": [
    "num_houses = matrix[0].sum()"
   ]
  },
  {
   "cell_type": "code",
   "execution_count": 45,
   "id": "b8c810f6-4c69-44f9-af63-3272eeb49981",
   "metadata": {},
   "outputs": [],
   "source": [
    "x_s = np.where(matrix[0] == 1)[0]\n",
    "y_s = np.where(matrix[0] == 1)[1]"
   ]
  },
  {
   "cell_type": "markdown",
   "id": "6417cf92-5947-462d-b346-35d3145d977d",
   "metadata": {},
   "source": [
    "x_s contains the x coordinate of each house <br>\n",
    "y_s contains the y coordinate of each house"
   ]
  },
  {
   "cell_type": "code",
   "execution_count": 47,
   "id": "fc59a697-aade-4869-a400-c06f1bcd33ad",
   "metadata": {},
   "outputs": [],
   "source": [
    "d= np.max(matrix)"
   ]
  },
  {
   "cell_type": "code",
   "execution_count": 49,
   "id": "545c8c73-2cab-4777-8b08-da79cfb904a2",
   "metadata": {},
   "outputs": [],
   "source": [
    "if d>1e7:\n",
    "    print(\"Too many consumers\")"
   ]
  },
  {
   "cell_type": "code",
   "execution_count": 50,
   "id": "361148d8-aa44-4717-9dc3-356532fc577c",
   "metadata": {},
   "outputs": [],
   "source": [
    "ncs = matrix[:,1] * 1e7 + matrix[:,2]"
   ]
  },
  {
   "cell_type": "code",
   "execution_count": 51,
   "id": "aa90c0ed-5fc4-4461-ba56-7e8bba9cee16",
   "metadata": {},
   "outputs": [
    {
     "data": {
      "text/plain": [
       "array([[1.e+07, 0.e+00, 0.e+00, 1.e+00, 1.e+07, 1.e+00, 1.e+00, 0.e+00,\n",
       "        1.e+00, 1.e+00],\n",
       "       [0.e+00, 0.e+00, 0.e+00, 0.e+00, 0.e+00, 0.e+00, 0.e+00, 0.e+00,\n",
       "        0.e+00, 0.e+00]])"
      ]
     },
     "execution_count": 51,
     "metadata": {},
     "output_type": "execute_result"
    }
   ],
   "source": [
    "ncs"
   ]
  },
  {
   "cell_type": "code",
   "execution_count": 54,
   "id": "da988e30-c499-4970-b0db-19c5e7fc28b1",
   "metadata": {},
   "outputs": [],
   "source": [
    "nc,ind = np.sort(ncs)"
   ]
  },
  {
   "cell_type": "code",
   "execution_count": 55,
   "id": "871463a9-47c3-4f18-945a-06af1d763089",
   "metadata": {},
   "outputs": [
    {
     "data": {
      "text/plain": [
       "array([0.e+00, 0.e+00, 0.e+00, 1.e+00, 1.e+00, 1.e+00, 1.e+00, 1.e+00,\n",
       "       1.e+07, 1.e+07])"
      ]
     },
     "execution_count": 55,
     "metadata": {},
     "output_type": "execute_result"
    }
   ],
   "source": [
    "nc"
   ]
  },
  {
   "cell_type": "code",
   "execution_count": 56,
   "id": "f85be627-a8ef-4347-9df2-b0e19da7406d",
   "metadata": {},
   "outputs": [
    {
     "data": {
      "text/plain": [
       "array([0., 0., 0., 0., 0., 0., 0., 0., 0., 0.])"
      ]
     },
     "execution_count": 56,
     "metadata": {},
     "output_type": "execute_result"
    }
   ],
   "source": [
    "ind"
   ]
  },
  {
   "cell_type": "code",
   "execution_count": null,
   "id": "3b012741-20ea-4ba7-91d4-88367c7dd74b",
   "metadata": {},
   "outputs": [],
   "source": []
  }
 ],
 "metadata": {
  "kernelspec": {
   "display_name": "Python 3 (ipykernel)",
   "language": "python",
   "name": "python3"
  },
  "language_info": {
   "codemirror_mode": {
    "name": "ipython",
    "version": 3
   },
   "file_extension": ".py",
   "mimetype": "text/x-python",
   "name": "python",
   "nbconvert_exporter": "python",
   "pygments_lexer": "ipython3",
   "version": "3.7.11"
  }
 },
 "nbformat": 4,
 "nbformat_minor": 5
}
