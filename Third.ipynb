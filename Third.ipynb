{
 "cells": [
  {
   "cell_type": "code",
   "execution_count": 1,
   "id": "d52de025-fd29-4ecd-a59e-c29b585a692c",
   "metadata": {},
   "outputs": [],
   "source": [
    "import numpy as np\n",
    "from IPython.display import Image\n",
    "import itertools"
   ]
  },
  {
   "cell_type": "code",
   "execution_count": 2,
   "id": "3f0eb714-021e-4a6c-b8d4-14ad8c828ac1",
   "metadata": {},
   "outputs": [],
   "source": [
    "import seaborn as sns"
   ]
  },
  {
   "cell_type": "code",
   "execution_count": 3,
   "id": "d9da7f05-054e-4cca-80cd-110e3e9887a5",
   "metadata": {},
   "outputs": [],
   "source": [
    "def get_houses():\n",
    "\n",
    "    houses = np.zeros((10,10))\n",
    "    houses[0,2] = 1\n",
    "    houses[0,4] = 1\n",
    "    houses[0,5] = 1\n",
    "    houses[0,7] = 1\n",
    "\n",
    "    houses[1,0] = 1\n",
    "    houses[1,4] = 1\n",
    "\n",
    "    houses[2,3] = 1\n",
    "    houses[2,5] = 1\n",
    "    houses[2,6] = 1\n",
    "    houses[2,8] = 1\n",
    "    houses[2,9] = 1\n",
    "\n",
    "    houses[3,4] = 1\n",
    "    houses[3,6] = 1\n",
    "    houses[3,8] = 1\n",
    "\n",
    "    houses[4,2] = 1\n",
    "    houses[4,5] = 1\n",
    "    houses[4,6] = 1\n",
    "    houses[4,7] = 1\n",
    "    houses[4,8] = 1\n",
    "\n",
    "    houses[5,0] = 1\n",
    "    houses[5,3] = 1\n",
    "    houses[5,4] = 1\n",
    "    houses[5,6] = 1\n",
    "\n",
    "    houses[6,0] = 1\n",
    "    houses[6,1] = 1\n",
    "    houses[6,2] = 1\n",
    "    houses[6,3] = 1\n",
    "    houses[6,4] = 1\n",
    "    houses[6,9] = 1\n",
    "\n",
    "    houses[7,4] = 1\n",
    "    houses[7,6] = 1\n",
    "\n",
    "    houses[8,0] = 1\n",
    "    houses[8,2] = 1\n",
    "    houses[8,6] = 1\n",
    "    houses[8,7] = 1\n",
    "    houses[8,9] = 1\n",
    "\n",
    "    houses[9,0] = 1\n",
    "    houses[9,4] = 1\n",
    "    houses[9,5] = 1\n",
    "    houses[9,8] = 1\n",
    "    houses[9,9] = 1\n",
    "\n",
    "    return houses.astype(np.float16)"
   ]
  },
  {
   "cell_type": "code",
   "execution_count": 4,
   "id": "6d565f33-cb5d-4379-931d-baf5252f761a",
   "metadata": {},
   "outputs": [],
   "source": [
    "houses = get_houses()"
   ]
  },
  {
   "cell_type": "code",
   "execution_count": 5,
   "id": "63e9946c-8179-40b9-99b7-a0aaabfca6bc",
   "metadata": {},
   "outputs": [],
   "source": [
    "def get_center(possible_coordinates):\n",
    "    if len(possible_coordinates) == 3:\n",
    "        center = possible_coordinates[1]\n",
    "    \n",
    "    else:\n",
    "        if possible_coordinates[1] == 9:\n",
    "            center = 9\n",
    "        elif possible_coordinates[0] == 0:\n",
    "            center = 0\n",
    "    return center"
   ]
  },
  {
   "cell_type": "code",
   "execution_count": 6,
   "id": "6d3af322-1815-4f9a-8c1c-7fad4557908b",
   "metadata": {},
   "outputs": [],
   "source": [
    "def get_weight(i_possiblities,j_possiblities,houses):\n",
    "    \n",
    "    center_x = get_center(i_possiblities)\n",
    "    center_y = get_center(j_possiblities)\n",
    "    \n",
    "    all_coordinates = list(itertools.product(i_possiblities,j_possiblities))\n",
    "    non_center_coordinates = [item for item in all_coordinates if item!=(center_x,center_y)]\n",
    "    \n",
    "    total = 0\n",
    "    \n",
    "    for coordinate in non_center_coordinates:\n",
    "        if houses[coordinate[0],coordinate[1]] > 0:\n",
    "            total = total + 0.5\n",
    "    total = total + houses[center_x,center_y]\n",
    "\n",
    "    return total\n",
    "    \n",
    "def get_weight_matrix(_houses):\n",
    "    weight_matrix = np.zeros((10,10))\n",
    "    for i in range(_houses.shape[0]):\n",
    "        for j in range(_houses.shape[1]):\n",
    "            if i>0 and i<9:\n",
    "                i_possiblities = [i-1,i,i+1]\n",
    "            elif i==0:\n",
    "                i_possiblities = [i,i+1]\n",
    "            else:\n",
    "                i_possiblities = [i-1,i]\n",
    "            if j>0 and j<9:\n",
    "                j_possiblities = [j-1,j,j+1]\n",
    "\n",
    "            elif j==0:\n",
    "                j_possiblities = [j,j+1]\n",
    "            else:\n",
    "                j_possiblities = [j-1,j]\n",
    "            weight_matrix[i,j] = get_weight(i_possiblities,j_possiblities,_houses)\n",
    "    return weight_matrix"
   ]
  },
  {
   "cell_type": "code",
   "execution_count": 7,
   "id": "5f06de57-9096-4630-b9db-0cf422f970de",
   "metadata": {},
   "outputs": [],
   "source": [
    "def add_tower(i,j,houses,towers):\n",
    "    new_towers = towers.copy()\n",
    "    new_houses = houses.copy()\n",
    "    if i>0 and i<9:\n",
    "            i_possiblities = [i-1,i,i+1]\n",
    "    elif i==0:\n",
    "            i_possiblities = [i,i+1]\n",
    "    else:\n",
    "            i_possiblities = [i-1,i]\n",
    "    if j>0 and j<9:\n",
    "            j_possiblities = [j-1,j,j+1]\n",
    "    elif j==0:\n",
    "            j_possiblities = [j,j+1]\n",
    "    else:\n",
    "            j_possiblities = [j-1,j]\n",
    "            \n",
    "    center_x = get_center(i_possiblities)\n",
    "    center_y = get_center(j_possiblities)\n",
    "    \n",
    "    all_coordinates = list(itertools.product(i_possiblities,j_possiblities))\n",
    "    non_center_coordinates = [item for item in all_coordinates if item!=(center_x,center_y)]\n",
    "    \n",
    "    for coordinate in non_center_coordinates:\n",
    "        if new_houses[coordinate[0],coordinate[1]] == 1:\n",
    "            new_houses[coordinate[0],coordinate[1]] = 0.5\n",
    "        elif new_houses[coordinate[0],coordinate[1]] == 0.5:\n",
    "            new_houses[coordinate[0],coordinate[1]] = 0\n",
    "            \n",
    "    new_houses[center_x,center_y] = 0\n",
    "    \n",
    "    new_towers[i,j] = 1\n",
    "    return new_houses,new_towers"
   ]
  },
  {
   "cell_type": "markdown",
   "id": "bad9228a-2615-40db-a1aa-e893aeb9afbe",
   "metadata": {},
   "source": [
    "##### %70 Service Rate"
   ]
  },
  {
   "cell_type": "code",
   "execution_count": 8,
   "id": "48ada918-8acb-45cf-914d-b04be8cd1afa",
   "metadata": {},
   "outputs": [
    {
     "name": "stdout",
     "output_type": "stream",
     "text": [
      "Number of towers: 11\n"
     ]
    }
   ],
   "source": [
    "houses = get_houses()\n",
    "num_towers = 0\n",
    "new_houses = houses.copy()\n",
    "towers = np.zeros((10,10))\n",
    "while ((new_houses).sum() > 12):\n",
    "    weight_matrix = get_weight_matrix(new_houses)\n",
    "    max_weight_idx = np.where(weight_matrix == (weight_matrix.max()))\n",
    "    try:\n",
    "        for i in range(len(max_weight_idx[0])):\n",
    "            x_max = max_weight_idx[0][i]\n",
    "            y_max = max_weight_idx[1][i]\n",
    "            if(towers[x_max,y_max]) == 0:\n",
    "                break\n",
    "    except Exception as e:\n",
    "        x_max = max_weight_idx[0][0]\n",
    "        y_max = max_weight_idx[1][0]\n",
    "        print(e)\n",
    "    new_houses,towers = add_tower(x_max,y_max,new_houses,towers)\n",
    "    num_towers +=1\n",
    "print(\"Number of towers:\",num_towers)\n"
   ]
  },
  {
   "cell_type": "code",
   "execution_count": 9,
   "id": "1bf2d65f-2cf9-460b-9af7-cff85b4ab3d8",
   "metadata": {},
   "outputs": [
    {
     "name": "stdout",
     "output_type": "stream",
     "text": [
      "[[0. 0. 0. 0. 0. 0. 0. 0. 0. 0.]\n",
      " [0. 0. 0. 0. 1. 0. 0. 0. 0. 0.]\n",
      " [0. 0. 0. 0. 0. 0. 0. 0. 0. 1.]\n",
      " [0. 0. 0. 0. 1. 0. 1. 1. 0. 0.]\n",
      " [0. 0. 0. 0. 0. 0. 0. 0. 0. 0.]\n",
      " [0. 1. 0. 1. 0. 0. 0. 0. 0. 0.]\n",
      " [0. 0. 0. 0. 0. 1. 0. 0. 0. 0.]\n",
      " [0. 1. 0. 0. 0. 0. 0. 0. 0. 0.]\n",
      " [0. 0. 0. 0. 0. 1. 0. 0. 0. 0.]\n",
      " [0. 0. 0. 0. 0. 0. 0. 0. 1. 0.]]\n"
     ]
    }
   ],
   "source": [
    "print(towers)"
   ]
  },
  {
   "cell_type": "code",
   "execution_count": 10,
   "id": "9f72b4fe-f779-4cbc-8b58-b227f3df0d82",
   "metadata": {},
   "outputs": [
    {
     "name": "stdout",
     "output_type": "stream",
     "text": [
      "[[0.  0.  1.  0.  0.5 0.5 0.  1.  0.  0. ]\n",
      " [1.  0.  0.  0.  0.  0.  0.  0.  0.  0. ]\n",
      " [0.  0.  0.  0.  0.  0.  0.  0.  0.  0. ]\n",
      " [0.  0.  0.  0.  0.  0.  0.  0.  0.  0. ]\n",
      " [0.  0.  0.  0.  0.  0.  0.  0.  0.5 0. ]\n",
      " [0.5 0.  0.  0.  0.  0.  0.5 0.  0.  0. ]\n",
      " [0.  0.  0.  0.5 0.  0.  0.  0.  0.  1. ]\n",
      " [0.  0.  0.  0.  0.  0.  0.  0.  0.  0. ]\n",
      " [0.5 0.  0.5 0.  0.  0.  0.5 0.5 0.  0.5]\n",
      " [1.  0.  0.  0.  0.5 0.5 0.  0.  0.  0.5]]\n"
     ]
    }
   ],
   "source": [
    "print(new_houses)"
   ]
  },
  {
   "cell_type": "markdown",
   "id": "98ae5dd1-ef2c-4837-9cf5-a743c903f9d9",
   "metadata": {},
   "source": [
    "#### Full Map"
   ]
  },
  {
   "cell_type": "code",
   "execution_count": 11,
   "id": "bba49fd2-a1d3-43dc-a09b-3f688b75f81b",
   "metadata": {},
   "outputs": [
    {
     "data": {
      "text/plain": [
       "<AxesSubplot:>"
      ]
     },
     "execution_count": 11,
     "metadata": {},
     "output_type": "execute_result"
    },
    {
     "data": {
      "image/png": "[encoded data removed]",
      "text/plain": [
       "<Figure size 432x288 with 2 Axes>"
      ]
     },
     "metadata": {
      "needs_background": "light"
     },
     "output_type": "display_data"
    }
   ],
   "source": [
    "towers = towers*20\n",
    "houses = get_houses()*5\n",
    "sns.heatmap(towers+houses)"
   ]
  },
  {
   "cell_type": "code",
   "execution_count": 12,
   "id": "110a2a6f-0f7a-4bb1-a427-020a482492fc",
   "metadata": {},
   "outputs": [
    {
     "data": {
      "text/plain": [
       "<AxesSubplot:>"
      ]
     },
     "execution_count": 12,
     "metadata": {},
     "output_type": "execute_result"
    },
    {
     "data": {
      "image/png": "[encoded data removed]",
      "text/plain": [
       "<Figure size 432x288 with 2 Axes>"
      ]
     },
     "metadata": {
      "needs_background": "light"
     },
     "output_type": "display_data"
    }
   ],
   "source": [
    "sns.heatmap(new_houses)"
   ]
  },
  {
   "cell_type": "code",
   "execution_count": 13,
   "id": "c9da7566-6027-4793-ab3c-97a89d058022",
   "metadata": {},
   "outputs": [
    {
     "name": "stdout",
     "output_type": "stream",
     "text": [
      "Number of towers: 18\n"
     ]
    }
   ],
   "source": [
    "houses = get_houses()\n",
    "num_towers = 0\n",
    "new_houses = houses.copy()\n",
    "towers = np.zeros((10,10))\n",
    "while (new_houses.sum() > 4.1):\n",
    "    weight_matrix = get_weight_matrix(new_houses)\n",
    "    max_weight_idx = np.where(weight_matrix == (weight_matrix.max()))\n",
    "    try:\n",
    "        for i in range(len(max_weight_idx[0])):\n",
    "            x_max = max_weight_idx[0][i]\n",
    "            y_max = max_weight_idx[1][i]\n",
    "            if(towers[x_max,y_max]) == 0:\n",
    "                break\n",
    "    except Exception as e:\n",
    "        x_max = max_weight_idx[0][0]\n",
    "        y_max = max_weight_idx[1][0]\n",
    "        print(e)\n",
    "        \n",
    "    new_houses,towers = add_tower(x_max,y_max,new_houses,towers)\n",
    "    num_towers +=1\n",
    "print(\"Number of towers:\",num_towers)"
   ]
  },
  {
   "cell_type": "markdown",
   "id": "5c002639-6d4a-4fe2-bdc5-4a410d242655",
   "metadata": {},
   "source": [
    "#### Full Map"
   ]
  },
  {
   "cell_type": "code",
   "execution_count": 14,
   "id": "f8ccb3e6-60c1-47b0-91ea-ce86b455ecc4",
   "metadata": {},
   "outputs": [
    {
     "data": {
      "text/plain": [
       "<AxesSubplot:>"
      ]
     },
     "execution_count": 14,
     "metadata": {},
     "output_type": "execute_result"
    },
    {
     "data": {
      "image/png": "[encoded data removed]",
      "text/plain": [
       "<Figure size 432x288 with 2 Axes>"
      ]
     },
     "metadata": {
      "needs_background": "light"
     },
     "output_type": "display_data"
    }
   ],
   "source": [
    "towers = towers*20\n",
    "houses = get_houses()*5\n",
    "sns.heatmap(towers+houses)"
   ]
  },
  {
   "cell_type": "code",
   "execution_count": 15,
   "id": "64439990-c361-4b4d-94df-6e676e5f809d",
   "metadata": {},
   "outputs": [
    {
     "data": {
      "text/plain": [
       "<AxesSubplot:>"
      ]
     },
     "execution_count": 15,
     "metadata": {},
     "output_type": "execute_result"
    },
    {
     "data": {
      "image/png": "[encoded data removed]",
      "text/plain": [
       "<Figure size 432x288 with 2 Axes>"
      ]
     },
     "metadata": {
      "needs_background": "light"
     },
     "output_type": "display_data"
    }
   ],
   "source": [
    "sns.heatmap(new_houses)"
   ]
  },
  {
   "cell_type": "code",
   "execution_count": null,
   "id": "f0c6cd5d-1550-482f-976e-5605ad8c4eed",
   "metadata": {},
   "outputs": [],
   "source": []
  }
 ],
 "metadata": {
  "kernelspec": {
   "display_name": "Python 3 (ipykernel)",
   "language": "python",
   "name": "python3"
  },
  "language_info": {
   "codemirror_mode": {
    "name": "ipython",
    "version": 3
   },
   "file_extension": ".py",
   "mimetype": "text/x-python",
   "name": "python",
   "nbconvert_exporter": "python",
   "pygments_lexer": "ipython3",
   "version": "3.7.11"
  }
 },
 "nbformat": 4,
 "nbformat_minor": 5
}
